{
 "cells": [
  {
   "cell_type": "code",
   "execution_count": 220,
   "metadata": {},
   "outputs": [],
   "source": [
    "import cv2"
   ]
  },
  {
   "cell_type": "code",
   "execution_count": 221,
   "metadata": {},
   "outputs": [],
   "source": [
    "from cv2 import CascadeClassifier"
   ]
  },
  {
   "cell_type": "code",
   "execution_count": 222,
   "metadata": {},
   "outputs": [],
   "source": [
    "from cv2 import rectangle"
   ]
  },
  {
   "cell_type": "code",
   "execution_count": 223,
   "metadata": {},
   "outputs": [],
   "source": [
    "img = cv2.imread(\"oar2.jpg\") \n",
    "image_rgb=cv2.cvtColor(img, cv2.COLOR_BGR2RGB)"
   ]
  },
  {
   "cell_type": "code",
   "execution_count": 224,
   "metadata": {},
   "outputs": [],
   "source": [
    "face_cascade=CascadeClassifier('haarcascade_frontalface_alt.xml') #replace with your path \n",
    "eye_cascade=CascadeClassifier('haarcascade_eye.xml')\n",
    "smile_cascade=CascadeClassifier('haarcascade_smile.xml')\n"
   ]
  },
  {
   "cell_type": "code",
   "execution_count": 225,
   "metadata": {},
   "outputs": [],
   "source": [
    "faces_detect=face_cascade.detectMultiScale(img)"
   ]
  },
  {
   "cell_type": "markdown",
   "metadata": {},
   "source": [
    "Face Detection"
   ]
  },
  {
   "cell_type": "code",
   "execution_count": 226,
   "metadata": {},
   "outputs": [],
   "source": [
    "# Check if the image was loaded successfully\n",
    "if img is None:\n",
    "    print(\"Error: Could not open or read the image.\")\n",
    "else:\n",
    "    # Detect faces in the image\n",
    "    faces_detect = face_cascade.detectMultiScale(img)\n",
    "\n",
    "    # Draw rectangles around detected faces\n",
    "    for face in faces_detect:\n",
    "        x, y, w, h = face  # Unpack the values directly from box\n",
    "        x2, y2 = x + w, y + h\n",
    "        cv2.rectangle(img, (x, y), (x2, y2), (0, 0, 255), 1) "
   ]
  },
  {
   "cell_type": "code",
   "execution_count": 227,
   "metadata": {},
   "outputs": [],
   "source": [
    "# Extract the face region of interest\n",
    "face_roi = img[y:y + h, x:x + w]    "
   ]
  },
  {
   "cell_type": "markdown",
   "metadata": {},
   "source": [
    "Eyes Detection"
   ]
  },
  {
   "cell_type": "code",
   "execution_count": 228,
   "metadata": {},
   "outputs": [],
   "source": [
    "# Detect eyes in the face_roi\n",
    "eyes_detect = eye_cascade.detectMultiScale(face_roi)\n",
    "        \n",
    "# Draw rectangles around detected eyes\n",
    "for eye in eyes_detect:\n",
    "            xe, ye, he, we = eye\n",
    "            xe2, ye2 = x + xe + we, y + ye + he\n",
    "            cv2.rectangle(img, (x + xe, y + ye), (xe2, ye2), (0, 0, 255), 2)"
   ]
  },
  {
   "cell_type": "markdown",
   "metadata": {},
   "source": [
    "smile detection"
   ]
  },
  {
   "cell_type": "code",
   "execution_count": 229,
   "metadata": {},
   "outputs": [],
   "source": [
    "# Detect smiles in the face ROI\n",
    "smile_detect = smile_cascade.detectMultiScale(face_roi, scaleFactor=1.1, minNeighbors=20, minSize=(20, 20))\n",
    "\n",
    "# Draw rectangles around detected smiles\n",
    "for (xm, ym, wm, hm) in smile_detect:\n",
    "   cv2.rectangle(img, (x + xm, y + ym), (x + xm + wm, y + ym + hm), (0, 0, 255), 1)\n"
   ]
  },
  {
   "cell_type": "markdown",
   "metadata": {},
   "source": [
    "Show image"
   ]
  },
  {
   "cell_type": "code",
   "execution_count": 230,
   "metadata": {},
   "outputs": [],
   "source": [
    "# Display the image with detected faces and eyes\n",
    "cv2.imshow(\"facedetection\", img)\n",
    "# Wait for a key press and close the window\n",
    "cv2.waitKey(0)\n",
    "cv2.destroyAllWindows()"
   ]
  }
 ],
 "metadata": {
  "kernelspec": {
   "display_name": "myenv",
   "language": "python",
   "name": "python3"
  },
  "language_info": {
   "codemirror_mode": {
    "name": "ipython",
    "version": 3
   },
   "file_extension": ".py",
   "mimetype": "text/x-python",
   "name": "python",
   "nbconvert_exporter": "python",
   "pygments_lexer": "ipython3",
   "version": "3.11.5"
  }
 },
 "nbformat": 4,
 "nbformat_minor": 2
}
